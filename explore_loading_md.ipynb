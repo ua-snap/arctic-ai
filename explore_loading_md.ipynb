{
 "cells": [
  {
   "cell_type": "markdown",
   "metadata": {},
   "source": [
    "### Setup\n",
    "\n",
    "Import the functions and load the NCR markdown document. The documents will be stored as `langchain` objects in the \"documents\" class, and we will explore some of the properties of that class."
   ]
  },
  {
   "cell_type": "code",
   "execution_count": 15,
   "metadata": {},
   "outputs": [],
   "source": [
    "from populate_database import *\n",
    "\n",
    "documents = load_documents()"
   ]
  },
  {
   "cell_type": "markdown",
   "metadata": {},
   "source": [
    "We've combined the individual markdown file text into one file (`data/ncr_data.md`) that has all communities organized under their own headers."
   ]
  },
  {
   "cell_type": "code",
   "execution_count": 16,
   "metadata": {},
   "outputs": [
    {
     "data": {
      "text/plain": [
       "1"
      ]
     },
     "execution_count": 16,
     "metadata": {},
     "output_type": "execute_result"
    }
   ],
   "source": [
    "len(documents)"
   ]
  },
  {
   "cell_type": "markdown",
   "metadata": {},
   "source": [
    "Now let's look at the page content for the object. If you compare to the NCR website, you will see that this is all of the top-level data-driven text for all of the communities we are using in this project. See how the data has been organized heirarchically under headers, and that there is redundant information about the community and topic in each of the subheaders. This is intended to keep topic and location context in each individual section, so that they text in each chunk does not become dislocated from the text providing the spatial context."
   ]
  },
  {
   "cell_type": "code",
   "execution_count": 17,
   "metadata": {},
   "outputs": [
    {
     "name": "stdout",
     "output_type": "stream",
     "text": [
      "# Anchorage (Dgheyaytnu)\n",
      "General Information: In Anchorage (Dgheyaytnu), The average (mean) elevation near this point is 69ft above sea level. The minimum elevation is 30ft and the maximum elevation is 121ft, which should be kept in mind when interpreting these results.\n",
      "## Projected Conditions for Anchorage (Dgheyaytnu)\n",
      "Projected Conditions for Anchorage (Dgheyaytnu): The sections below show output from different scientific simulations of possible future conditions for temperature, precipitation, hydrology, permafrost, flammability, and vegetation change. These simulations use different Global Climate Models (GCMs)—climate models—such as the National Center for Atmospheric Research Community Climate System Model 4.0 (NCAR CCSM4).\n",
      "\n",
      "These climate models use Representative Concentration Pathways (RCPs) to compare different future greenhouse gas emissions scenarios. Compared to current emissions RCP 4.5 is a scenario representing a reduction in global emissions, while RCP 8.5 represents a scenario similar to, or possibly higher than, current global emissions trajectories. RCP 6.0 is between these two trajectories. Read more about climate models and RCPs.\n",
      "\n",
      "Some of the data has been averaged by season. Winter is December, January and February, Spring is March, April and May, Summer is June, July and August, Fall is September, October and November.\n",
      "\n",
      "### Temperature\n",
      "Information about temperature: In Anchorage (Dgheyaytnu), average annual temperatures may increase by about 13°F by the end of the century. Winter temperatures are projected to increase the most (+16°F). \n",
      "### Precipitation\n",
      "Information about precipitation: In Anchorage (Dgheyaytnu), Models have higher uncertainty with regard to precipitation, but spring is likely to have more precipitation (+48%).\n",
      "### Permafrost\n",
      "Information about permafrost: In Anchorage (Dgheyaytnu), No data.\n",
      "### Flammability\n",
      "Information about flammability: In Anchorage (Dgheyaytnu), In the past, this area had very low flammability. By the mid–century, flammability may increase to low. By the late–century, flammability may increase to moderate compared with historical flammability. Based on climate and fire-driven shifts, vegetation in this area may be notably different by the end of the century. \n",
      "### Spruce Beetles\n",
      "Information about spruce beetles: In Anchorage (Dgheyaytnu), No data.\n",
      "\n",
      "# Fairbanks\n",
      "General Information: In Fairbanks, The average (mean) elevation near this point is 433ft above sea level. The minimum elevation is 381ft and the maximum elevation is 486ft, which should be kept in mind when interpreting these results.\n",
      "\n",
      "## Projected Conditions for Fairbanks\n",
      "Projected Conditions for Fairbanks: The sections below show output from different scientific simulations of possible future conditions for temperature, precipitation, hydrology, permafrost, flammability, and vegetation change. These simulations use different Global Climate Models (GCMs)—climate models—such as the National Center for Atmospheric Research Community Climate System Model 4.0 (NCAR CCSM4).\n",
      "\n",
      "These climate models use Representative Concentration Pathways (RCPs) to compare different future greenhouse gas emissions scenarios. Compared to current emissions RCP 4.5 is a scenario representing a reduction in global emissions, while RCP 8.5 represents a scenario similar to, or possibly higher than, current global emissions trajectories. RCP 6.0 is between these two trajectories. Read more about climate models and RCPs.\n",
      "\n",
      "Some of the data has been averaged by season. Winter is December, January and February, Spring is March, April and May, Summer is June, July and August, Fall is September, October and November.\n",
      "\n",
      "### Temperature\n",
      "Information about temperature: In Fairbanks, average annual temperatures may increase by about 13°F by the end of the century. Winter temperatures are projected to increase the most (+18°F). Spring and fall may transition from below freezing to above freezing in the future. \n",
      "### Precipitation\n",
      "Information about precipitation: In Fairbanks, Models have higher uncertainty with regard to precipitation, but spring is likely to have more precipitation (+88%). \n",
      "### Permafrost\n",
      "Information about permafrost: Information about permafrost: In Fairbanks, Models indicate that permafrost degradation may occur at a rate of 3.9 inches per year. \n",
      "### Flammability\n",
      "Information about flammability: In Fairbanks, In the past, this area had moderate flammability. Future flammability may be about the same (+30% by late century). Based on climate and fire-driven shifts, vegetation in this area may be notably different by the end of the century. \n",
      "### Spruce Beetles\n",
      "Information about spruce beetles: In Fairbanks, Historically, climate conditions were highly protective against spruce beetle outbreaks. Under normal snow conditions, climate conditions in the future may provide about the same protection by mid-century and less protection by late this century.\n",
      "\n",
      "# Juneau (Dzánti K'ihéeni)\n",
      "General Information: In Juneau (Dzánti K'ihéeni), The average (mean) elevation near this point is 89ft above sea level. The minimum elevation is 0ft and the maximum elevation is 459ft, which should be kept in mind when interpreting these results.\n",
      "## Projected Conditions for Juneau (Dzánti K'ihéeni)\n",
      "Projected Conditions for Juneau (Dzánti K'ihéeni): The sections below show output from different scientific simulations of possible future conditions for temperature, precipitation, hydrology, permafrost, flammability, and vegetation change. These simulations use different Global Climate Models (GCMs)—climate models—such as the National Center for Atmospheric Research Community Climate System Model 4.0 (NCAR CCSM4).\n",
      "\n",
      "These climate models use Representative Concentration Pathways (RCPs) to compare different future greenhouse gas emissions scenarios. Compared to current emissions RCP 4.5 is a scenario representing a reduction in global emissions, while RCP 8.5 represents a scenario similar to, or possibly higher than, current global emissions trajectories. RCP 6.0 is between these two trajectories. Read more about climate models and RCPs.\n",
      "\n",
      "Some of the data has been averaged by season. Winter is December, January and February, Spring is March, April and May, Summer is June, July and August, Fall is September, October and November.\n",
      "\n",
      "### Temperature\n",
      "Information about temperature: In Juneau (Dzánti K'ihéeni), average annual temperatures may increase by about 11°F by the end of the century. Summer temperatures are projected to increase the most (+13°F). Winter may transition from below freezing to above freezing in the future.\n",
      "### Precipitation\n",
      "Information about precipitation: In Juneau (Dzánti K'ihéeni), Models have higher uncertainty with regard to precipitation, but fall is likely to have more precipitation (+28%).\n",
      "### Permafrost\n",
      "Information about permafrost: In Juneau (Dzánti K'ihéeni), No data.\n",
      "### Flammability\n",
      "Information about flammability: In Juneau (Dzánti K'ihéeni), In the past, this area had very low flammability. Future flammability may be about the same.\n",
      "### Spruce Beetles\n",
      "Information about spruce beetles: In Juneau (Dzánti K'ihéeni), Historically, climate conditions were minimally protective against spruce beetle outbreaks. Under normal snow conditions, climate conditions in the future may provide less protection by mid-century and about the same protection by late this century.\n",
      "\n",
      "# Nome (Sitŋasuaq)\n",
      "General Information: In Nome (Sitŋasuaq), The average (mean) elevation near this point is 39ft above sea level. The minimum elevation is 10ft and the maximum elevation is 154ft, which should be kept in mind when interpreting these results.\n",
      "\n",
      "## Projected Conditions for Nome (Sitŋasuaq)\n",
      "Projected Conditions for Nome (Sitŋasuaq): The sections below show output from different scientific simulations of possible future conditions for temperature, precipitation, hydrology, permafrost, flammability, and vegetation change. These simulations use different Global Climate Models (GCMs)—climate models—such as the National Center for Atmospheric Research Community Climate System Model 4.0 (NCAR CCSM4).\n",
      "\n",
      "These climate models use Representative Concentration Pathways (RCPs) to compare different future greenhouse gas emissions scenarios. Compared to current emissions RCP 4.5 is a scenario representing a reduction in global emissions, while RCP 8.5 represents a scenario similar to, or possibly higher than, current global emissions trajectories. RCP 6.0 is between these two trajectories. Read more about climate models and RCPs.\n",
      "\n",
      "Some of the data has been averaged by season. Winter is December, January and February, Spring is March, April and May, Summer is June, July and August, Fall is September, October and November.\n",
      "\n",
      "### Temperature\n",
      "Information about temperature: In Nome (Sitŋasuaq), average annual temperatures may increase by about 14°F by the end of the century. Winter temperatures are projected to increase the most (+23°F). Spring and fall may transition from below freezing to above freezing in the future. \n",
      "### Precipitation\n",
      "Information about precipitation: In Nome (Sitŋasuaq), Models have higher uncertainty with regard to precipitation, but fall is likely to have more precipitation (+33%).\n",
      "### Permafrost\n",
      "Information about permafrost: In Nome (Sitŋasuaq), Models indicate that permafrost degradation may occur at a rate of 1.8 inches per year.\n",
      "### Flammability\n",
      "Information about flammability: In Nome (Sitŋasuaq), Models indicate that permafrost degradation may occur at a rate of 1.8 inches per year. In the past, this area had very low flammability. Future flammability may be about the same.\n",
      "### Spruce Beetles\n",
      "Information about spruce beetles: In Nome (Sitŋasuaq), No data.\n",
      "\n",
      "# Utqiaġvik (Barrow)\n",
      "General Information: In Utqiaġvik (Barrow), The average (mean) elevation near this point is 20ft above sea level. The minimum elevation is 0ft and the maximum elevation is 59ft, which should be kept in mind when interpreting these results.\n",
      "\n",
      "## Projected Conditions for Utqiaġvik (Barrow)\n",
      "Projected Conditions for Utqiaġvik (Barrow): The sections below show output from different scientific simulations of possible future conditions for temperature, precipitation, hydrology, permafrost, flammability, and vegetation change. These simulations use different Global Climate Models (GCMs)—climate models—such as the National Center for Atmospheric Research Community Climate System Model 4.0 (NCAR CCSM4).\n",
      "\n",
      "These climate models use Representative Concentration Pathways (RCPs) to compare different future greenhouse gas emissions scenarios. Compared to current emissions RCP 4.5 is a scenario representing a reduction in global emissions, while RCP 8.5 represents a scenario similar to, or possibly higher than, current global emissions trajectories. RCP 6.0 is between these two trajectories. Read more about climate models and RCPs.\n",
      "\n",
      "Some of the data has been averaged by season. Winter is December, January and February, Spring is March, April and May, Summer is June, July and August, Fall is September, October and November.\n",
      "\n",
      "### Temperature\n",
      "Information about temperature: In Utqiaġvik (Barrow), average annual temperatures may increase by about 18°F by the end of the century. Winter temperatures are projected to increase the most (+31°F).\n",
      "### Precipitation\n",
      "Information about precipitation: In Utqiaġvik (Barrow), Models have higher uncertainty with regard to precipitation, but summer is likely to have more precipitation (+76%).\n",
      "### Permafrost\n",
      "Information about permafrost: In Utqiaġvik (Barrow), No data.\n",
      "### Flammability\n",
      "Information about flammability: In Utqiaġvik (Barrow), In the past, this area had very low flammability. Future flammability may be about the same. Based on climate and fire-driven shifts, vegetation in this area may be notably different by the end of the century.\n",
      "### Spruce Beetles\n",
      "Information about spruce beetles: In Utqiaġvik (Barrow), No data.\n"
     ]
    }
   ],
   "source": [
    "print(documents[0])"
   ]
  },
  {
   "cell_type": "markdown",
   "metadata": {},
   "source": [
    "For structured text, we are using `langchain`'s `MarkdownHeaderTextSplitter` function, which will keep the individual sections of the markdown document intact. Here we are explicitly splitting the text according to our own logic, rather than allowing a text splitter function to make those decisions. \n",
    "\n",
    "This is the [document-structure based splitting](https://python.langchain.com/docs/concepts/text_splitters/#document-structured-based) mentioned in the other repo branches. This can work on structured files like Markdown, JSON, or HTML, which will use the features unique to those formats to provide the logical organization of the document used in splitting. Here, we don't set any chunking parameters except for a list of markdown levels to split on, which we can name for the metadata, e.g.:\n",
    "\n",
    "```\n",
    "headers_to_split_on = [\n",
    "        (\"#\", \"Community\"),\n",
    "        (\"##\", \"Topic\"),\n",
    "        (\"###\", \"Subtopic\"),\n",
    "    ]\n",
    "```\n",
    "\n",
    "Let's try it out."
   ]
  },
  {
   "cell_type": "code",
   "execution_count": 18,
   "metadata": {},
   "outputs": [
    {
     "name": "stdout",
     "output_type": "stream",
     "text": [
      "35\n"
     ]
    }
   ],
   "source": [
    "chunks = split_documents(documents)\n",
    "print(len(chunks))"
   ]
  },
  {
   "cell_type": "code",
   "execution_count": 19,
   "metadata": {},
   "outputs": [
    {
     "data": {
      "text/plain": [
       "[Document(metadata={'Community': 'Anchorage (Dgheyaytnu)'}, page_content='General Information: In Anchorage (Dgheyaytnu), The average (mean) elevation near this point is 69ft above sea level. The minimum elevation is 30ft and the maximum elevation is 121ft, which should be kept in mind when interpreting these results.'),\n",
       " Document(metadata={'Community': 'Anchorage (Dgheyaytnu)', 'Topic': 'Projected Conditions for Anchorage (Dgheyaytnu)'}, page_content='Projected Conditions for Anchorage (Dgheyaytnu): The sections below show output from different scientific simulations of possible future conditions for temperature, precipitation, hydrology, permafrost, flammability, and vegetation change. These simulations use different Global Climate Models (GCMs)—climate models—such as the National Center for Atmospheric Research Community Climate System Model 4.0 (NCAR CCSM4).  \\nThese climate models use Representative Concentration Pathways (RCPs) to compare different future greenhouse gas emissions scenarios. Compared to current emissions RCP 4.5 is a scenario representing a reduction in global emissions, while RCP 8.5 represents a scenario similar to, or possibly higher than, current global emissions trajectories. RCP 6.0 is between these two trajectories. Read more about climate models and RCPs.  \\nSome of the data has been averaged by season. Winter is December, January and February, Spring is March, April and May, Summer is June, July and August, Fall is September, October and November.'),\n",
       " Document(metadata={'Community': 'Anchorage (Dgheyaytnu)', 'Topic': 'Projected Conditions for Anchorage (Dgheyaytnu)', 'Subtopic': 'Temperature'}, page_content='Information about temperature: In Anchorage (Dgheyaytnu), average annual temperatures may increase by about 13°F by the end of the century. Winter temperatures are projected to increase the most (+16°F).'),\n",
       " Document(metadata={'Community': 'Anchorage (Dgheyaytnu)', 'Topic': 'Projected Conditions for Anchorage (Dgheyaytnu)', 'Subtopic': 'Precipitation'}, page_content='Information about precipitation: In Anchorage (Dgheyaytnu), Models have higher uncertainty with regard to precipitation, but spring is likely to have more precipitation (+48%).'),\n",
       " Document(metadata={'Community': 'Anchorage (Dgheyaytnu)', 'Topic': 'Projected Conditions for Anchorage (Dgheyaytnu)', 'Subtopic': 'Permafrost'}, page_content='Information about permafrost: In Anchorage (Dgheyaytnu), No data.'),\n",
       " Document(metadata={'Community': 'Anchorage (Dgheyaytnu)', 'Topic': 'Projected Conditions for Anchorage (Dgheyaytnu)', 'Subtopic': 'Flammability'}, page_content='Information about flammability: In Anchorage (Dgheyaytnu), In the past, this area had very low flammability. By the mid–century, flammability may increase to low. By the late–century, flammability may increase to moderate compared with historical flammability. Based on climate and fire-driven shifts, vegetation in this area may be notably different by the end of the century.'),\n",
       " Document(metadata={'Community': 'Anchorage (Dgheyaytnu)', 'Topic': 'Projected Conditions for Anchorage (Dgheyaytnu)', 'Subtopic': 'Spruce Beetles'}, page_content='Information about spruce beetles: In Anchorage (Dgheyaytnu), No data.'),\n",
       " Document(metadata={'Community': 'Fairbanks'}, page_content='General Information: In Fairbanks, The average (mean) elevation near this point is 433ft above sea level. The minimum elevation is 381ft and the maximum elevation is 486ft, which should be kept in mind when interpreting these results.'),\n",
       " Document(metadata={'Community': 'Fairbanks', 'Topic': 'Projected Conditions for Fairbanks'}, page_content='Projected Conditions for Fairbanks: The sections below show output from different scientific simulations of possible future conditions for temperature, precipitation, hydrology, permafrost, flammability, and vegetation change. These simulations use different Global Climate Models (GCMs)—climate models—such as the National Center for Atmospheric Research Community Climate System Model 4.0 (NCAR CCSM4).  \\nThese climate models use Representative Concentration Pathways (RCPs) to compare different future greenhouse gas emissions scenarios. Compared to current emissions RCP 4.5 is a scenario representing a reduction in global emissions, while RCP 8.5 represents a scenario similar to, or possibly higher than, current global emissions trajectories. RCP 6.0 is between these two trajectories. Read more about climate models and RCPs.  \\nSome of the data has been averaged by season. Winter is December, January and February, Spring is March, April and May, Summer is June, July and August, Fall is September, October and November.'),\n",
       " Document(metadata={'Community': 'Fairbanks', 'Topic': 'Projected Conditions for Fairbanks', 'Subtopic': 'Temperature'}, page_content='Information about temperature: In Fairbanks, average annual temperatures may increase by about 13°F by the end of the century. Winter temperatures are projected to increase the most (+18°F). Spring and fall may transition from below freezing to above freezing in the future.'),\n",
       " Document(metadata={'Community': 'Fairbanks', 'Topic': 'Projected Conditions for Fairbanks', 'Subtopic': 'Precipitation'}, page_content='Information about precipitation: In Fairbanks, Models have higher uncertainty with regard to precipitation, but spring is likely to have more precipitation (+88%).'),\n",
       " Document(metadata={'Community': 'Fairbanks', 'Topic': 'Projected Conditions for Fairbanks', 'Subtopic': 'Permafrost'}, page_content='Information about permafrost: Information about permafrost: In Fairbanks, Models indicate that permafrost degradation may occur at a rate of 3.9 inches per year.'),\n",
       " Document(metadata={'Community': 'Fairbanks', 'Topic': 'Projected Conditions for Fairbanks', 'Subtopic': 'Flammability'}, page_content='Information about flammability: In Fairbanks, In the past, this area had moderate flammability. Future flammability may be about the same (+30% by late century). Based on climate and fire-driven shifts, vegetation in this area may be notably different by the end of the century.'),\n",
       " Document(metadata={'Community': 'Fairbanks', 'Topic': 'Projected Conditions for Fairbanks', 'Subtopic': 'Spruce Beetles'}, page_content='Information about spruce beetles: In Fairbanks, Historically, climate conditions were highly protective against spruce beetle outbreaks. Under normal snow conditions, climate conditions in the future may provide about the same protection by mid-century and less protection by late this century.'),\n",
       " Document(metadata={'Community': \"Juneau (Dzánti K'ihéeni)\"}, page_content=\"General Information: In Juneau (Dzánti K'ihéeni), The average (mean) elevation near this point is 89ft above sea level. The minimum elevation is 0ft and the maximum elevation is 459ft, which should be kept in mind when interpreting these results.\"),\n",
       " Document(metadata={'Community': \"Juneau (Dzánti K'ihéeni)\", 'Topic': \"Projected Conditions for Juneau (Dzánti K'ihéeni)\"}, page_content=\"Projected Conditions for Juneau (Dzánti K'ihéeni): The sections below show output from different scientific simulations of possible future conditions for temperature, precipitation, hydrology, permafrost, flammability, and vegetation change. These simulations use different Global Climate Models (GCMs)—climate models—such as the National Center for Atmospheric Research Community Climate System Model 4.0 (NCAR CCSM4).  \\nThese climate models use Representative Concentration Pathways (RCPs) to compare different future greenhouse gas emissions scenarios. Compared to current emissions RCP 4.5 is a scenario representing a reduction in global emissions, while RCP 8.5 represents a scenario similar to, or possibly higher than, current global emissions trajectories. RCP 6.0 is between these two trajectories. Read more about climate models and RCPs.  \\nSome of the data has been averaged by season. Winter is December, January and February, Spring is March, April and May, Summer is June, July and August, Fall is September, October and November.\"),\n",
       " Document(metadata={'Community': \"Juneau (Dzánti K'ihéeni)\", 'Topic': \"Projected Conditions for Juneau (Dzánti K'ihéeni)\", 'Subtopic': 'Temperature'}, page_content=\"Information about temperature: In Juneau (Dzánti K'ihéeni), average annual temperatures may increase by about 11°F by the end of the century. Summer temperatures are projected to increase the most (+13°F). Winter may transition from below freezing to above freezing in the future.\"),\n",
       " Document(metadata={'Community': \"Juneau (Dzánti K'ihéeni)\", 'Topic': \"Projected Conditions for Juneau (Dzánti K'ihéeni)\", 'Subtopic': 'Precipitation'}, page_content=\"Information about precipitation: In Juneau (Dzánti K'ihéeni), Models have higher uncertainty with regard to precipitation, but fall is likely to have more precipitation (+28%).\"),\n",
       " Document(metadata={'Community': \"Juneau (Dzánti K'ihéeni)\", 'Topic': \"Projected Conditions for Juneau (Dzánti K'ihéeni)\", 'Subtopic': 'Permafrost'}, page_content=\"Information about permafrost: In Juneau (Dzánti K'ihéeni), No data.\"),\n",
       " Document(metadata={'Community': \"Juneau (Dzánti K'ihéeni)\", 'Topic': \"Projected Conditions for Juneau (Dzánti K'ihéeni)\", 'Subtopic': 'Flammability'}, page_content=\"Information about flammability: In Juneau (Dzánti K'ihéeni), In the past, this area had very low flammability. Future flammability may be about the same.\"),\n",
       " Document(metadata={'Community': \"Juneau (Dzánti K'ihéeni)\", 'Topic': \"Projected Conditions for Juneau (Dzánti K'ihéeni)\", 'Subtopic': 'Spruce Beetles'}, page_content=\"Information about spruce beetles: In Juneau (Dzánti K'ihéeni), Historically, climate conditions were minimally protective against spruce beetle outbreaks. Under normal snow conditions, climate conditions in the future may provide less protection by mid-century and about the same protection by late this century.\"),\n",
       " Document(metadata={'Community': 'Nome (Sitŋasuaq)'}, page_content='General Information: In Nome (Sitŋasuaq), The average (mean) elevation near this point is 39ft above sea level. The minimum elevation is 10ft and the maximum elevation is 154ft, which should be kept in mind when interpreting these results.'),\n",
       " Document(metadata={'Community': 'Nome (Sitŋasuaq)', 'Topic': 'Projected Conditions for Nome (Sitŋasuaq)'}, page_content='Projected Conditions for Nome (Sitŋasuaq): The sections below show output from different scientific simulations of possible future conditions for temperature, precipitation, hydrology, permafrost, flammability, and vegetation change. These simulations use different Global Climate Models (GCMs)—climate models—such as the National Center for Atmospheric Research Community Climate System Model 4.0 (NCAR CCSM4).  \\nThese climate models use Representative Concentration Pathways (RCPs) to compare different future greenhouse gas emissions scenarios. Compared to current emissions RCP 4.5 is a scenario representing a reduction in global emissions, while RCP 8.5 represents a scenario similar to, or possibly higher than, current global emissions trajectories. RCP 6.0 is between these two trajectories. Read more about climate models and RCPs.  \\nSome of the data has been averaged by season. Winter is December, January and February, Spring is March, April and May, Summer is June, July and August, Fall is September, October and November.'),\n",
       " Document(metadata={'Community': 'Nome (Sitŋasuaq)', 'Topic': 'Projected Conditions for Nome (Sitŋasuaq)', 'Subtopic': 'Temperature'}, page_content='Information about temperature: In Nome (Sitŋasuaq), average annual temperatures may increase by about 14°F by the end of the century. Winter temperatures are projected to increase the most (+23°F). Spring and fall may transition from below freezing to above freezing in the future.'),\n",
       " Document(metadata={'Community': 'Nome (Sitŋasuaq)', 'Topic': 'Projected Conditions for Nome (Sitŋasuaq)', 'Subtopic': 'Precipitation'}, page_content='Information about precipitation: In Nome (Sitŋasuaq), Models have higher uncertainty with regard to precipitation, but fall is likely to have more precipitation (+33%).'),\n",
       " Document(metadata={'Community': 'Nome (Sitŋasuaq)', 'Topic': 'Projected Conditions for Nome (Sitŋasuaq)', 'Subtopic': 'Permafrost'}, page_content='Information about permafrost: In Nome (Sitŋasuaq), Models indicate that permafrost degradation may occur at a rate of 1.8 inches per year.'),\n",
       " Document(metadata={'Community': 'Nome (Sitŋasuaq)', 'Topic': 'Projected Conditions for Nome (Sitŋasuaq)', 'Subtopic': 'Flammability'}, page_content='Information about flammability: In Nome (Sitŋasuaq), Models indicate that permafrost degradation may occur at a rate of 1.8 inches per year. In the past, this area had very low flammability. Future flammability may be about the same.'),\n",
       " Document(metadata={'Community': 'Nome (Sitŋasuaq)', 'Topic': 'Projected Conditions for Nome (Sitŋasuaq)', 'Subtopic': 'Spruce Beetles'}, page_content='Information about spruce beetles: In Nome (Sitŋasuaq), No data.'),\n",
       " Document(metadata={'Community': 'Utqiaġvik (Barrow)'}, page_content='General Information: In Utqiaġvik (Barrow), The average (mean) elevation near this point is 20ft above sea level. The minimum elevation is 0ft and the maximum elevation is 59ft, which should be kept in mind when interpreting these results.'),\n",
       " Document(metadata={'Community': 'Utqiaġvik (Barrow)', 'Topic': 'Projected Conditions for Utqiaġvik (Barrow)'}, page_content='Projected Conditions for Utqiaġvik (Barrow): The sections below show output from different scientific simulations of possible future conditions for temperature, precipitation, hydrology, permafrost, flammability, and vegetation change. These simulations use different Global Climate Models (GCMs)—climate models—such as the National Center for Atmospheric Research Community Climate System Model 4.0 (NCAR CCSM4).  \\nThese climate models use Representative Concentration Pathways (RCPs) to compare different future greenhouse gas emissions scenarios. Compared to current emissions RCP 4.5 is a scenario representing a reduction in global emissions, while RCP 8.5 represents a scenario similar to, or possibly higher than, current global emissions trajectories. RCP 6.0 is between these two trajectories. Read more about climate models and RCPs.  \\nSome of the data has been averaged by season. Winter is December, January and February, Spring is March, April and May, Summer is June, July and August, Fall is September, October and November.'),\n",
       " Document(metadata={'Community': 'Utqiaġvik (Barrow)', 'Topic': 'Projected Conditions for Utqiaġvik (Barrow)', 'Subtopic': 'Temperature'}, page_content='Information about temperature: In Utqiaġvik (Barrow), average annual temperatures may increase by about 18°F by the end of the century. Winter temperatures are projected to increase the most (+31°F).'),\n",
       " Document(metadata={'Community': 'Utqiaġvik (Barrow)', 'Topic': 'Projected Conditions for Utqiaġvik (Barrow)', 'Subtopic': 'Precipitation'}, page_content='Information about precipitation: In Utqiaġvik (Barrow), Models have higher uncertainty with regard to precipitation, but summer is likely to have more precipitation (+76%).'),\n",
       " Document(metadata={'Community': 'Utqiaġvik (Barrow)', 'Topic': 'Projected Conditions for Utqiaġvik (Barrow)', 'Subtopic': 'Permafrost'}, page_content='Information about permafrost: In Utqiaġvik (Barrow), No data.'),\n",
       " Document(metadata={'Community': 'Utqiaġvik (Barrow)', 'Topic': 'Projected Conditions for Utqiaġvik (Barrow)', 'Subtopic': 'Flammability'}, page_content='Information about flammability: In Utqiaġvik (Barrow), In the past, this area had very low flammability. Future flammability may be about the same. Based on climate and fire-driven shifts, vegetation in this area may be notably different by the end of the century.'),\n",
       " Document(metadata={'Community': 'Utqiaġvik (Barrow)', 'Topic': 'Projected Conditions for Utqiaġvik (Barrow)', 'Subtopic': 'Spruce Beetles'}, page_content='Information about spruce beetles: In Utqiaġvik (Barrow), No data.')]"
      ]
     },
     "execution_count": 19,
     "metadata": {},
     "output_type": "execute_result"
    }
   ],
   "source": [
    "chunks"
   ]
  },
  {
   "cell_type": "markdown",
   "metadata": {},
   "source": [
    "Now we add a URL to the chunk metadata dictionary."
   ]
  },
  {
   "cell_type": "code",
   "execution_count": 20,
   "metadata": {},
   "outputs": [
    {
     "name": "stdout",
     "output_type": "stream",
     "text": [
      "{'Community': 'Anchorage (Dgheyaytnu)', 'url': 'https://northernclimatereports.org/report/community/AK15'}\n",
      "General Information: In Anchorage (Dgheyaytnu), The average (mean) elevation near this point is 69ft above sea level. The minimum elevation is 30ft and the maximum elevation is 121ft, which should be kept in mind when interpreting these results.\n"
     ]
    }
   ],
   "source": [
    "chunks_with_ids = calculate_chunk_ids(chunks)\n",
    "print(chunks_with_ids[0].metadata)\n",
    "print(chunks_with_ids[0].page_content)"
   ]
  },
  {
   "cell_type": "markdown",
   "metadata": {},
   "source": [
    "Great, if the LLM uses this chunk of text to create a response to a question, we can point the user back to the exact source of the information."
   ]
  },
  {
   "cell_type": "markdown",
   "metadata": {},
   "source": []
  }
 ],
 "metadata": {
  "kernelspec": {
   "display_name": "rag",
   "language": "python",
   "name": "python3"
  },
  "language_info": {
   "codemirror_mode": {
    "name": "ipython",
    "version": 3
   },
   "file_extension": ".py",
   "mimetype": "text/x-python",
   "name": "python",
   "nbconvert_exporter": "python",
   "pygments_lexer": "ipython3",
   "version": "3.11.11"
  }
 },
 "nbformat": 4,
 "nbformat_minor": 2
}
