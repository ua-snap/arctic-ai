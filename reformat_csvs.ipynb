{
 "cells": [
  {
   "cell_type": "code",
   "execution_count": 31,
   "metadata": {},
   "outputs": [],
   "source": [
    "CSV_PATH = \"csvs\"\n",
    "DATA_PATH = \"data\"\n",
    "\n",
    "import pandas as pd\n",
    "import os\n",
    "from luts import *"
   ]
  },
  {
   "cell_type": "code",
   "execution_count": 32,
   "metadata": {},
   "outputs": [
    {
     "name": "stdout",
     "output_type": "stream",
     "text": [
      "Reading Temperature for Fairbanks.csv\n",
      "Reading Temperature for Utqiaġvik (Barrow).csv\n",
      "Reading Temperature for Juneau (Dzánti K'ihéeni).csv\n",
      "Reading Temperature for Anchorage (Dgheyaytnu).csv\n",
      "Reading Temperature for Nome (Sitŋasuaq).csv\n"
     ]
    }
   ],
   "source": [
    "dfs = {}\n",
    "for root, dirs, files in os.walk(CSV_PATH):\n",
    "    for file in files:\n",
    "        if file.endswith(\".csv\"):\n",
    "            print(\"Reading\", file)\n",
    "\n",
    "            # populate dictionary keys with the file name, without the \"Temperature for \" prefix or \"csv\" suffix\n",
    "            # add the data as a pandas dataframe\n",
    "            # and save the comments from the csv file (ie, all rows beginning with #) as a continuous string separated by semicolons\n",
    "            key = file.replace(\"Temperature for \", \"\")\n",
    "            key = key.replace(\".csv\", \"\")\n",
    "            dfs[key] = {\n",
    "                \"data\": pd.read_csv(os.path.join(root, file), comment=\"#\"),\n",
    "                \"comments\": [],\n",
    "            }\n",
    "            with open(os.path.join(root, file), \"r\") as f:\n",
    "                dfs[key][\"comments\"] = \";\".join(\n",
    "                    [line for line in f if line.startswith(\"#\")]\n",
    "                )\n",
    "            # remove all newline and # characters from the comments\n",
    "            dfs[key][\"comments\"] = dfs[key][\"comments\"].replace(\"\\n\", \"\")\n",
    "            dfs[key][\"comments\"] = dfs[key][\"comments\"].replace(\"#\", \"\")"
   ]
  },
  {
   "cell_type": "code",
   "execution_count": 33,
   "metadata": {},
   "outputs": [
    {
     "data": {
      "text/plain": [
       "{'data':     date_range season      model    scenario variable  mean   min   max  \\\n",
       " 0    1950_2009    DJF   CRU-TS40  Historical      tas -20.8 -30.0 -12.7   \n",
       " 1    1950_2009    JJA   CRU-TS40  Historical      tas  14.9  11.5  17.6   \n",
       " 2    1950_2009    MAM   CRU-TS40  Historical      tas  -1.2 -15.1  11.8   \n",
       " 3    1950_2009    SON   CRU-TS40  Historical      tas  -3.6 -18.3   8.6   \n",
       " 4    2040_2069    DJF  5modelAvg       rcp45      tas -16.6   NaN   NaN   \n",
       " ..         ...    ...        ...         ...      ...   ...   ...   ...   \n",
       " 395  2090_2099    SON      CCSM4       rcp60      tas   1.0   NaN   NaN   \n",
       " 396  2090_2099    SON      CCSM4       rcp85      tas   3.6   NaN   NaN   \n",
       " 397  2090_2099    SON  MRI-CGCM3       rcp45      tas  -0.4   NaN   NaN   \n",
       " 398  2090_2099    SON  MRI-CGCM3       rcp60      tas   0.3   NaN   NaN   \n",
       " 399  2090_2099    SON  MRI-CGCM3       rcp85      tas   2.4   NaN   NaN   \n",
       " \n",
       "      median  hi_std  lo_std    q1    q3  \n",
       " 0     -20.5   -17.4   -24.1 -22.8 -18.7  \n",
       " 1      15.2    16.3    13.5  13.8  16.0  \n",
       " 2      -0.8     7.6    -9.9 -10.4   8.2  \n",
       " 3      -3.2     5.3   -12.4 -13.6   6.2  \n",
       " 4       NaN     NaN     NaN   NaN   NaN  \n",
       " ..      ...     ...     ...   ...   ...  \n",
       " 395     NaN     NaN     NaN   NaN   NaN  \n",
       " 396     NaN     NaN     NaN   NaN   NaN  \n",
       " 397     NaN     NaN     NaN   NaN   NaN  \n",
       " 398     NaN     NaN     NaN   NaN   NaN  \n",
       " 399     NaN     NaN     NaN   NaN   NaN  \n",
       " \n",
       " [400 rows x 13 columns],\n",
       " 'comments': ' Location: Fairbanks; View a report for this location at https://earthmaps.io/temperature/point/64.8378/-147.716; tas is the mean annual near-surface air temperature in degrees Celsius for the specified model and scenario; model is the global climate model used to generate the data; scenario is the emissions scenario used to generate the data; mean is the mean of annual means; median is the median of annual means; max is the maximum annual mean; min is the minimum annual mean; q1 is the first quartile of the annual means; q3 is the third quartile of the annual means; hi_std is the mean + standard deviation of annual means; lo_std is the mean - standard deviation of annual means; DJF is December - February; MAM is March - May; JJA is June - August; SON is September - November'}"
      ]
     },
     "execution_count": 33,
     "metadata": {},
     "output_type": "execute_result"
    }
   ],
   "source": [
    "dfs[\"Fairbanks\"]"
   ]
  },
  {
   "cell_type": "code",
   "execution_count": 34,
   "metadata": {},
   "outputs": [],
   "source": [
    "# for each item in the dictionary, add a Location column and Description column to the dataframe in the dictionary\n",
    "# populate the place name using the dictionary key and the description using the comments\n",
    "# then save the dataframe to a csv file in the data directory\n",
    "for key in dfs:\n",
    "    dfs[key][\"data\"][\"Location\"] = key\n",
    "    dfs[key][\"data\"][\"Description\"] = dfs[key][\"comments\"]\n",
    "    dfs[key][\"data\"].to_csv(\n",
    "        os.path.join(DATA_PATH, key + \" Temperature.csv\"), index=False\n",
    "    )"
   ]
  },
  {
   "cell_type": "code",
   "execution_count": null,
   "metadata": {},
   "outputs": [],
   "source": []
  }
 ],
 "metadata": {
  "kernelspec": {
   "display_name": "ai",
   "language": "python",
   "name": "python3"
  },
  "language_info": {
   "codemirror_mode": {
    "name": "ipython",
    "version": 3
   },
   "file_extension": ".py",
   "mimetype": "text/x-python",
   "name": "python",
   "nbconvert_exporter": "python",
   "pygments_lexer": "ipython3",
   "version": "3.11.11"
  }
 },
 "nbformat": 4,
 "nbformat_minor": 2
}
