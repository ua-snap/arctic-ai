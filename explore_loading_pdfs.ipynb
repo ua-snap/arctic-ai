{
 "cells": [
  {
   "cell_type": "code",
   "execution_count": 25,
   "metadata": {},
   "outputs": [],
   "source": [
    "from populate_database import *\n",
    "documents = load_documents()"
   ]
  },
  {
   "cell_type": "code",
   "execution_count": 26,
   "metadata": {},
   "outputs": [
    {
     "data": {
      "text/plain": [
       "132"
      ]
     },
     "execution_count": 26,
     "metadata": {},
     "output_type": "execute_result"
    }
   ],
   "source": [
    "# we know the first PDF has 16 pages, and the second has 116\n",
    "#  so we can check if the loader splits the document up by page \n",
    "len(documents)"
   ]
  },
  {
   "cell_type": "code",
   "execution_count": 28,
   "metadata": {},
   "outputs": [
    {
     "name": "stdout",
     "output_type": "stream",
     "text": [
      "{'source': 'data/Alaskas-Changing-Environment_2019_WEB.pdf', 'page': 0}\n",
      "{'source': 'data/ArcticReportCard_full_report2024.pdf', 'page': 0}\n"
     ]
    }
   ],
   "source": [
    "# what does the metadata look like per page?\n",
    "print(documents[0].metadata)\n",
    "print(documents[16].metadata)"
   ]
  },
  {
   "cell_type": "code",
   "execution_count": 31,
   "metadata": {},
   "outputs": [
    {
     "name": "stdout",
     "output_type": "stream",
     "text": [
      "Longest growing season\n",
      "(155 days) Bethel, 2018\n",
      "Warmest month\n",
      "Y akutat, July 2019\n",
      "Five warmest winters\n",
      "Utqiaġvik, 2014–2019\n",
      "Flooding\n",
      "Dalton Highway \n",
      "April–May 2015\n",
      "Record heat\n",
      "Northway 92ºF \n",
      "June 2019\n",
      "Record heat 90ºF \n",
      "Anchorage, July 2019\n",
      "\"Blob\" marine heatwave\n",
      "Gulf of Alaska, 2014–2016\n",
      "Drought\n",
      "Southeast Alaska,  \n",
      "2017–2019\n",
      "Warmest year \n",
      "Kodiak, 2016\n",
      "Coastal flooding\n",
      "Little Diomede \n",
      "February 2018\n",
      "Record low sea ice extent \n",
      "Bering Sea, spring \n",
      "2018–2019\n",
      "Warmest year\n",
      "St. Paul, 2016\n",
      "Earliest break-up\n",
      "Tanana River 2019\n",
      "Wildfire\n",
      "Four million acres burned in \n",
      "five weeks, June–July 2015\n",
      "1\n",
      "Alaska has recently experienced profound environmental change related to extreme \n",
      "weather events and deviations from the historical climate. Sustained warmth, sea ice \n",
      "loss, coastal flooding, river flooding, and major ecosystem changes have impacted the \n",
      "daily lives of Alaskans around the state. \n",
      "Temperatures have been consistently warmer than at any time in the past century. This \n",
      "warming varies greatly across the state, with northern and western regions warming at \n",
      "twice the rate of southeastern Alaska. The growing season has increased substantially \n",
      "in most areas, and the snow cover season has shortened. Precipitation overall has \n",
      "increased, and like temperature, the changes vary regionally. The ocean around Alaska \n",
      "is now regularly warmer than at any time in the past 150 years, affecting everything \n",
      "from algae to fisheries and human health. \n",
      "Coastal flooding during the autumn storm season has occurred on the Bering Sea \n",
      "coast throughout history, but recent winters have brought record low ice, which in the \n",
      "past has served as a buffer to big Bering Sea storms. This has resulted in out-of-season \n",
      "flooding occurring in places expecting stable sea ice. \n",
      "Across the following pages we have compiled observations through August 2019 about \n",
      "the major changes currently affecting Alaska's physical and biological systems. We \n",
      "focus on the past five years, though we also provide information from earlier decades \n",
      "for historical context. This effort is by no means comprehensive, but serves to highlight \n",
      "the monumental shifts occurring in our state. We welcome additional contributions to \n",
      "future iterations of this product. \n",
      "The International Arctic Research Center and the University of Alaska Fairbanks are \n",
      "providing individuals, Alaska businesses, communities, government, and others with the \n",
      "resources needed to better assess impacts and develop adaption strategies.  \n",
      "AUTHORS  \n",
      "Rick Thoman, John Walsh\n",
      "DATA CONTRIBUTORS\n",
      "Number in grey circle on each \n",
      "graphic links to source on p. 16\n",
      "REVIEW\n",
      "Hajo Eicken, Larry Hartig, Molly \n",
      "McCammon, Nate Bauer, \n",
      "Nikoosh Carlo, Scott Rupp, Tina \n",
      "Buxbaum, Uma Bhatt \n",
      "LAYOUT & EDITING\n",
      "Heather McFarland\n",
      "CONTACT US\n",
      "uaf-iarc@alaska.edu\n",
      "CONTENT\n",
      "Seasons .......................................  3\n",
      "Temperature .......................... 4–5\n",
      "Precipitation ............................... 6\n",
      "Snow ............................................ 7\n",
      "Sea ice .................................... 8–9\n",
      "Ocean ....................................... 10\n",
      "Land ............................................ 11\n",
      "Plants ......................................... 12\n",
      "Animals & fish .......................... 13 \n",
      "Humans ..................................... 14\n",
      "Rural observations  ..................  15\n",
      "Acknowledgments  ................... 16\n",
      "WELCOME\n",
      "www.iarc.uaf.edu\n",
      "UAF is an AA/EO employer and educational institution and prohibits illegal \n",
      "discrimination against any individual: www.alaska.edu/nondiscrimination/.\n",
      "RECORDS SINCE 2014\n",
      "This graphic provides examples \n",
      "of notable events that took \n",
      "place in and around Alaska from \n",
      "2014 to 2019. Warmest month\n",
      "Statewide, July 2019\n",
      "International Arctic\n",
      "Research Center\n",
      "University of Alaska Fairbanks\n"
     ]
    }
   ],
   "source": [
    "print(documents[1].page_content)"
   ]
  },
  {
   "cell_type": "code",
   "execution_count": 35,
   "metadata": {},
   "outputs": [
    {
     "name": "stdout",
     "output_type": "stream",
     "text": [
      "NOAA Technical Report OAR ARC ; 24-09  Arctic Report Card 2024 \n",
      "74 \n",
      "The neighboring boreal forest biome (see Fig. 1a,b) occupies large swaths of northern Eurasia and North \n",
      "America, and has also emerged as a focal point of global environmental change. Patches of positive and \n",
      "negative greenness trends are widely interspersed, reflecting complex interactions among the biome’s \n",
      "active wildfire regime, climate change, permafrost thaw, extreme events, pathogens, and other factors \n",
      "(Kim et al. 2024). Browning has generally prevailed in the warmer southern boreal zone (Berner and \n",
      "Goetz 2022), but greening has been widespread along the forest-tundra ecotone in the north, often in \n",
      "association with tall shrub and tree expansion (Wong et al. 2024). \n",
      "At the time of writing, MaxNDVI data for 2024 were only available for MODIS. In 2024, the MODIS \n",
      "observed circumpolar average MaxNDVI value was slightly higher (0.9%) compared to 2023 and \n",
      "represents the second highest in the 25-year record for that sensor. This continued a sequence of record \n",
      "or near-record high values that began in 2020, with the four highest MaxNDVI values in the 25-year \n",
      "MODIS record being observed since that year. Tundra greenness reached a new record high value in the \n",
      "North American Arctic, and was much higher than normal in northern Alaska, central and eastern \n",
      "Canada, and Greenland (Fig. 2). Localized areas of lower-than-normal greenness in Canada’s Northwest \n",
      "Territories were likely the result of intense wildfire activity in 2023 and 2024. The Eurasian Arctic, \n",
      "however, featured a mixture of positive and negative departures from normal, a pattern that was also \n",
      "evident in summer 2023. Interestingly, while some of the Eurasian regions with below normal MaxNDVI \n",
      "also experienced cooler than normal summer temperatures (e.g., easternmost Chukchi Peninsula), \n",
      "others experienced very warm conditions (e.g., north-central Siberia), complicating the degree to which \n",
      "greening can be attributed simply to warmer summer temperatures (see essay Surface Air \n",
      "Temperature). Negative anomalies in northeastern Siberia could partly reflect the highly active fire \n",
      "season in that region. Nonetheless, the long-term trend in MODIS-observed tundra greenness is strongly \n",
      "positive (greening) for most of the circumpolar region. Although 2024 data are not yet available for \n",
      "AVHRR, this dataset also corroborates the MODIS record, with the three highest MaxNDVI values in the \n",
      "42-year AVHRR record all observed since 2020 (Fig. 3). \n"
     ]
    }
   ],
   "source": [
    "print(documents[91].page_content)"
   ]
  },
  {
   "cell_type": "code",
   "execution_count": 37,
   "metadata": {},
   "outputs": [],
   "source": [
    "# possible to have a unique ID for document objects, but not required... here we didn't assign any\n",
    "documents[0].id"
   ]
  },
  {
   "cell_type": "code",
   "execution_count": 40,
   "metadata": {},
   "outputs": [
    {
     "name": "stdout",
     "output_type": "stream",
     "text": [
      "429\n"
     ]
    }
   ],
   "source": [
    "# split the documents into chunks and see how many there are\n",
    "chunks = split_documents(documents)\n",
    "print(len(chunks))"
   ]
  },
  {
   "cell_type": "code",
   "execution_count": 43,
   "metadata": {},
   "outputs": [
    {
     "name": "stdout",
     "output_type": "stream",
     "text": [
      "{'source': 'data/Alaskas-Changing-Environment_2019_WEB.pdf', 'page': 2}\n",
      "1952 1960 1970 1980 1990 2000 2010 2019\n",
      "40\n",
      "30\n",
      "20\n",
      "10\n",
      "0\n",
      "Days per summer when visibility \n",
      "is restricted by smoke\n",
      "BIG FIRE SEASONS MORE FREQUENT\n",
      "Warmer springs and earlier snow melt had lengthened \n",
      "the wildfire season to the point in 2006 when Alaska’s \n",
      "interagency fire management organization changed the \n",
      "“start date” for wildfire response from May 1 to April 1. While \n",
      "the year-to-year variability of acreage burned has changed \n",
      "little, the frequency of large wildfire seasons has increased \n",
      "dramatically. Wildfire seasons with more than one million acres \n",
      "(red bars in graph) burned have increased by 50% since 1990, \n",
      "compared to the 1950–1989 period. \n",
      "Total acres burned each year\n",
      "2\n",
      "3\n",
      "5\n",
      "4\n",
      "1\n",
      "0.5\n",
      "Average\n",
      "-0.5\n",
      "-1\n",
      "1980 1985 1990 1995 2000 2005 2010 2015 2018\n"
     ]
    }
   ],
   "source": [
    "# check out a chunk and its metadata\n",
    "print(chunks[10].metadata)\n",
    "print(chunks[10].page_content)"
   ]
  },
  {
   "cell_type": "code",
   "execution_count": 45,
   "metadata": {},
   "outputs": [],
   "source": [
    "# just like the document objects, the chunks don't have unique IDs unless you assign them\n",
    "chunks[10].id"
   ]
  },
  {
   "cell_type": "code",
   "execution_count": 48,
   "metadata": {},
   "outputs": [
    {
     "name": "stdout",
     "output_type": "stream",
     "text": [
      "data/Alaskas-Changing-Environment_2019_WEB.pdf:2:3\n"
     ]
    }
   ],
   "source": [
    "# the functions in this codebase DO assign unique IDs to chunks based on document name, page number, and chunk number on that page\n",
    "# this is done in order to make the database update-friendly\n",
    "# during a database update, the unique IDs are used to ignore chunks that already exist\n",
    "# but in this case, we add a unique ID to the chunk metadata dictionary\n",
    "chunks_with_ids = calculate_chunk_ids(chunks)\n",
    "print(chunks_with_ids[10].metadata[\"id\"])"
   ]
  },
  {
   "cell_type": "code",
   "execution_count": null,
   "metadata": {},
   "outputs": [],
   "source": [
    "# So chunk #10 this is from the AK Changing Environment document, page 2, chunk 3"
   ]
  }
 ],
 "metadata": {
  "kernelspec": {
   "display_name": "rag",
   "language": "python",
   "name": "python3"
  },
  "language_info": {
   "codemirror_mode": {
    "name": "ipython",
    "version": 3
   },
   "file_extension": ".py",
   "mimetype": "text/x-python",
   "name": "python",
   "nbconvert_exporter": "python",
   "pygments_lexer": "ipython3",
   "version": "3.12.8"
  }
 },
 "nbformat": 4,
 "nbformat_minor": 2
}
