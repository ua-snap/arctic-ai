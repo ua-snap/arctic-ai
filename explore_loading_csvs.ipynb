{
 "cells": [
  {
   "cell_type": "markdown",
   "metadata": {},
   "source": [
    "### Setup\n",
    "\n",
    "Import the functions and load the CSVs. The documents will be stored as `langchain` objects in the \"documents\" class, and we will explore some of the properties of that class."
   ]
  },
  {
   "cell_type": "code",
   "execution_count": 1,
   "metadata": {},
   "outputs": [],
   "source": [
    "from populate_database import *\n",
    "\n",
    "documents = load_documents()"
   ]
  },
  {
   "cell_type": "markdown",
   "metadata": {},
   "source": [
    "The CSV loader splits the CSV by rows, so that each row becomes its own document object. For this reason, we reformatted the CSVs (in `reformat_csvs.ipynb`) to include the CSV field metadata and a new row for location in every row of the dataset. This is very redundant, but ensures that we keep contextual information with every single document object."
   ]
  },
  {
   "cell_type": "code",
   "execution_count": 2,
   "metadata": {},
   "outputs": [
    {
     "data": {
      "text/plain": [
       "2000"
      ]
     },
     "execution_count": 2,
     "metadata": {},
     "output_type": "execute_result"
    }
   ],
   "source": [
    "len(documents)"
   ]
  },
  {
   "cell_type": "markdown",
   "metadata": {},
   "source": [
    "Now let's look at the page content for the object. We see the data from the CSV in a dictionary-style format, which includes the location and description."
   ]
  },
  {
   "cell_type": "code",
   "execution_count": 3,
   "metadata": {},
   "outputs": [
    {
     "name": "stdout",
     "output_type": "stream",
     "text": [
      "page_content='date_range: 1950_2009\n",
      "season: DJF\n",
      "model: CRU-TS40\n",
      "scenario: Historical\n",
      "variable: tas\n",
      "mean: -25.5\n",
      "min: -30.7\n",
      "max: -19.0\n",
      "median: -25.4\n",
      "hi_std: -23.1\n",
      "lo_std: -27.9\n",
      "q1: -26.9\n",
      "q3: -23.8\n",
      "Location: Utqiaġvik (Barrow)\n",
      "Description: Location: Utqiaġvik (Barrow); View a report for this location at https://earthmaps.io/temperature/point/71.2905/-156.789; tas is the mean annual near-surface air temperature in degrees Celsius for the specified model and scenario; model is the global climate model used to generate the data; scenario is the emissions scenario used to generate the data; mean is the mean of annual means; median is the median of annual means; max is the maximum annual mean; min is the minimum annual mean; q1 is the first quartile of the annual means; q3 is the third quartile of the annual means; hi_std is the mean + standard deviation of annual means; lo_std is the mean - standard deviation of annual means; DJF is December - February; MAM is March - May; JJA is June - August; SON is September - November' metadata={'source': 'data/Utqiaġvik (Barrow) Temperature.csv', 'row': 0}\n"
     ]
    }
   ],
   "source": [
    "print(documents[0])"
   ]
  },
  {
   "cell_type": "markdown",
   "metadata": {},
   "source": [
    "Note that we don't need to split these documents into chunks! The dataset is small enough that we can leave each row as its own chunk. If we had a CSV with hundred or thousands of rows, we might think about chunking them."
   ]
  },
  {
   "cell_type": "markdown",
   "metadata": {},
   "source": [
    "Now we want to add a URL to the chunk metadata dictionary. Here we can use the filename to parse the place name string and use our lookup table of URLs."
   ]
  },
  {
   "cell_type": "code",
   "execution_count": 4,
   "metadata": {},
   "outputs": [
    {
     "name": "stdout",
     "output_type": "stream",
     "text": [
      "{'source': 'data/Utqiaġvik (Barrow) Temperature.csv', 'row': 0}\n"
     ]
    }
   ],
   "source": [
    "print(documents[0].metadata)"
   ]
  },
  {
   "cell_type": "code",
   "execution_count": 5,
   "metadata": {},
   "outputs": [
    {
     "name": "stdout",
     "output_type": "stream",
     "text": [
      "{'source': 'data/Utqiaġvik (Barrow) Temperature.csv', 'row': 0, 'Location': 'Utqiaġvik (Barrow)', 'URL': 'https://northernclimatereports.org/report/community/AK418'}\n",
      "date_range: 1950_2009\n",
      "season: DJF\n",
      "model: CRU-TS40\n",
      "scenario: Historical\n",
      "variable: tas\n",
      "mean: -25.5\n",
      "min: -30.7\n",
      "max: -19.0\n",
      "median: -25.4\n",
      "hi_std: -23.1\n",
      "lo_std: -27.9\n",
      "q1: -26.9\n",
      "q3: -23.8\n",
      "Location: Utqiaġvik (Barrow)\n",
      "Description: Location: Utqiaġvik (Barrow); View a report for this location at https://earthmaps.io/temperature/point/71.2905/-156.789; tas is the mean annual near-surface air temperature in degrees Celsius for the specified model and scenario; model is the global climate model used to generate the data; scenario is the emissions scenario used to generate the data; mean is the mean of annual means; median is the median of annual means; max is the maximum annual mean; min is the minimum annual mean; q1 is the first quartile of the annual means; q3 is the third quartile of the annual means; hi_std is the mean + standard deviation of annual means; lo_std is the mean - standard deviation of annual means; DJF is December - February; MAM is March - May; JJA is June - August; SON is September - November\n"
     ]
    }
   ],
   "source": [
    "chunks_with_ids = calculate_chunk_ids(documents)\n",
    "print(chunks_with_ids[0].metadata)\n",
    "print(chunks_with_ids[0].page_content)"
   ]
  },
  {
   "cell_type": "markdown",
   "metadata": {},
   "source": [
    "Great, if the LLM uses this CSV row to create a response to a question, we can point the user back to the exact source of the information."
   ]
  },
  {
   "cell_type": "markdown",
   "metadata": {},
   "source": []
  }
 ],
 "metadata": {
  "kernelspec": {
   "display_name": "rag",
   "language": "python",
   "name": "python3"
  },
  "language_info": {
   "codemirror_mode": {
    "name": "ipython",
    "version": 3
   },
   "file_extension": ".py",
   "mimetype": "text/x-python",
   "name": "python",
   "nbconvert_exporter": "python",
   "pygments_lexer": "ipython3",
   "version": "3.11.11"
  }
 },
 "nbformat": 4,
 "nbformat_minor": 2
}
